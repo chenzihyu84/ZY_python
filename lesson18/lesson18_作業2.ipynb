{
 "cells": [
  {
   "cell_type": "code",
   "execution_count": 5,
   "metadata": {},
   "outputs": [],
   "source": [
    "import pandas as pd\n",
    "\n",
    "dataFrame = pd.read_csv(\"world.csv\")\n",
    "USA = dataFrame[dataFrame['國家'] == '美國']\n",
    "sortedFrame = USA.sort_values(by='新增確診數',ascending=False)\n",
    "USAdata = sortedFrame.iloc[:100]\n",
    "USAdata.to_json('美國前100確診數.json',force_ascii=False,orient='table')\n",
    "\n"
   ]
  }
 ],
 "metadata": {
  "kernelspec": {
   "display_name": "Python 3",
   "language": "python",
   "name": "python3"
  },
  "language_info": {
   "codemirror_mode": {
    "name": "ipython",
    "version": 3
   },
   "file_extension": ".py",
   "mimetype": "text/x-python",
   "name": "python",
   "nbconvert_exporter": "python",
   "pygments_lexer": "ipython3",
   "version": "3.10.13"
  }
 },
 "nbformat": 4,
 "nbformat_minor": 2
}

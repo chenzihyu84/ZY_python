{
 "cells": [
  {
   "cell_type": "code",
   "execution_count": 8,
   "metadata": {},
   "outputs": [
    {
     "name": "stdout",
     "output_type": "stream",
     "text": [
      "輸入分數:100\n",
      "優\n"
     ]
    }
   ],
   "source": [
    "#請輸入學生分數0~100\n",
    "#0~59不及格\n",
    "#60~79及格\n",
    "#80~100優\n",
    "\n",
    "import pyinputplus as pyip\n",
    "score = pyip.inputInt(\"輸入分數:\",max=100,min=0)\n",
    "print(score)\n",
    "if score <60:\n",
    "    print(\"不及格\")\n",
    "else:\n",
    "    if score<80:\n",
    "        print(\"及格\")\n",
    "    else:\n",
    "        print(\"優\")"
   ]
  },
  {
   "cell_type": "code",
   "execution_count": 12,
   "metadata": {},
   "outputs": [
    {
     "name": "stdout",
     "output_type": "stream",
     "text": [
      "輸入分數:100\n",
      "優\n"
     ]
    }
   ],
   "source": [
    "#請輸入學生分數0~100\n",
    "#0~59不及格\n",
    "#60~79及格\n",
    "#80~100優\n",
    "\n",
    "import pyinputplus as pyip\n",
    "score = pyip.inputInt(\"輸入分數:\",max=100,min=0)\n",
    "print(score)\n",
    "if score <60:\n",
    "    print(\"不及格\")\n",
    "elif score<80:\n",
    "    print(\"及格\")\n",
    "else:\n",
    "    print(\"優\")"
   ]
  },
  {
   "cell_type": "code",
   "execution_count": 20,
   "metadata": {},
   "outputs": [
    {
     "name": "stdout",
     "output_type": "stream",
     "text": [
      "輸入分數:99\n",
      "優\n"
     ]
    }
   ],
   "source": [
    "import pyinputplus as pyip\n",
    "score = pyip.inputInt(\"輸入分數:\",max=100,min=0)\n",
    "print(score)\n",
    "if score <60:\n",
    "    print(\"丁\")\n",
    "elif score<70:\n",
    "    print(\"丙\")\n",
    "elif score<80:\n",
    "    print(\"乙\")\n",
    "elif score<90:\n",
    "    print(\"甲\")\n",
    "else:\n",
    "    print(\"優\")"
   ]
  },
  {
   "cell_type": "code",
   "execution_count": 25,
   "metadata": {},
   "outputs": [
    {
     "name": "stdout",
     "output_type": "stream",
     "text": [
      "輸入分數:56\n",
      "丁\n"
     ]
    }
   ],
   "source": [
    "import pyinputplus as pyip\n",
    "score = pyip.inputInt(\"輸入分數:\",max=100,min=0)\n",
    "print(score)\n",
    "if score >=90:\n",
    "    print(\"優\")\n",
    "elif score>=80:\n",
    "    print(\"甲\")\n",
    "elif score>=70:\n",
    "    print(\"乙\")\n",
    "elif score>=60:\n",
    "    print(\"丙\")\n",
    "else:\n",
    "    print(\"丁\")"
   ]
  }
 ],
 "metadata": {
  "kernelspec": {
   "display_name": "Python 3",
   "language": "python",
   "name": "python3"
  },
  "language_info": {
   "codemirror_mode": {
    "name": "ipython",
    "version": 3
   },
   "file_extension": ".py",
   "mimetype": "text/x-python",
   "name": "python",
   "nbconvert_exporter": "python",
   "pygments_lexer": "ipython3",
   "version": "3.10.13"
  }
 },
 "nbformat": 4,
 "nbformat_minor": 2
}

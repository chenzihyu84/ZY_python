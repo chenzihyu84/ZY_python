{
 "cells": [
  {
   "cell_type": "code",
   "execution_count": 25,
   "metadata": {},
   "outputs": [
    {
     "name": "stdout",
     "output_type": "stream",
     "text": [
      "===========猜數字遊戲===========\n",
      "猜數字範圍1~100Blank values are not allowed.\n",
      "猜數字範圍1~10034\n",
      "再大一點\n",
      "您已經猜了1次\n",
      "===================\n",
      "猜數字範圍1~3520\n",
      "再大一點\n",
      "您已經猜了2次\n",
      "===================\n",
      "猜數字範圍1~2110\n",
      "再大一點\n",
      "您已經猜了3次\n",
      "===================\n",
      "猜數字範圍1~116\n",
      "再大一點\n",
      "您已經猜了4次\n",
      "===================\n",
      "猜數字範圍1~73\n",
      "再大一點\n",
      "您已經猜了5次\n",
      "===================\n",
      "猜數字範圍1~42\n",
      "再大一點\n",
      "您已經猜了6次\n",
      "===================\n",
      "猜數字範圍1~32\n",
      "再大一點\n",
      "您已經猜了7次\n",
      "===================\n",
      "猜數字範圍1~33\n",
      "再大一點\n",
      "您已經猜了8次\n",
      "===================\n",
      "猜數字範圍1~41\n",
      "再大一點\n",
      "您已經猜了9次\n",
      "===================\n",
      "猜數字範圍1~2Blank values are not allowed.\n",
      "猜數字範圍1~2Blank values are not allowed.\n",
      "猜數字範圍1~2Blank values are not allowed.\n",
      "猜數字範圍1~2"
     ]
    },
    {
     "ename": "KeyboardInterrupt",
     "evalue": "Interrupted by user",
     "output_type": "error",
     "traceback": [
      "\u001b[0;31m---------------------------------------------------------------------------\u001b[0m",
      "\u001b[0;31mKeyboardInterrupt\u001b[0m                         Traceback (most recent call last)",
      "\u001b[1;32m/workspaces/ZY_python/lesson7_2.ipynb 儲存格 1\u001b[0m line \u001b[0;36m1\n\u001b[1;32m      <a href='vscode-notebook-cell://codespaces%2Bcuddly-fortnight-pjjgrjx6gppqf77w6/workspaces/ZY_python/lesson7_2.ipynb#W0sdnNjb2RlLXJlbW90ZQ%3D%3D?line=7'>8</a>\u001b[0m \u001b[39mprint\u001b[39m(\u001b[39m\"\u001b[39m\u001b[39m===========猜數字遊戲===========\u001b[39m\u001b[39m\"\u001b[39m)\n\u001b[1;32m      <a href='vscode-notebook-cell://codespaces%2Bcuddly-fortnight-pjjgrjx6gppqf77w6/workspaces/ZY_python/lesson7_2.ipynb#W0sdnNjb2RlLXJlbW90ZQ%3D%3D?line=8'>9</a>\u001b[0m \u001b[39mwhile\u001b[39;00m(\u001b[39mTrue\u001b[39;00m):\n\u001b[0;32m---> <a href='vscode-notebook-cell://codespaces%2Bcuddly-fortnight-pjjgrjx6gppqf77w6/workspaces/ZY_python/lesson7_2.ipynb#W0sdnNjb2RlLXJlbW90ZQ%3D%3D?line=9'>10</a>\u001b[0m     keyin \u001b[39m=\u001b[39m pyip\u001b[39m.\u001b[39;49minputInt(\u001b[39mf\u001b[39;49m\u001b[39m\"\u001b[39;49m\u001b[39m猜數字範圍\u001b[39;49m\u001b[39m{\u001b[39;49;00m\u001b[39mmin\u001b[39;49m\u001b[39m}\u001b[39;49;00m\u001b[39m~\u001b[39;49m\u001b[39m{\u001b[39;49;00m\u001b[39mmax\u001b[39;49m\u001b[39m}\u001b[39;49;00m\u001b[39m\"\u001b[39;49m)\n\u001b[1;32m     <a href='vscode-notebook-cell://codespaces%2Bcuddly-fortnight-pjjgrjx6gppqf77w6/workspaces/ZY_python/lesson7_2.ipynb#W0sdnNjb2RlLXJlbW90ZQ%3D%3D?line=10'>11</a>\u001b[0m     count \u001b[39m+\u001b[39m\u001b[39m=\u001b[39m \u001b[39m1\u001b[39m\n\u001b[1;32m     <a href='vscode-notebook-cell://codespaces%2Bcuddly-fortnight-pjjgrjx6gppqf77w6/workspaces/ZY_python/lesson7_2.ipynb#W0sdnNjb2RlLXJlbW90ZQ%3D%3D?line=11'>12</a>\u001b[0m     \u001b[39mprint\u001b[39m(keyin)\n",
      "File \u001b[0;32m~/.local/lib/python3.10/site-packages/pyinputplus/__init__.py:486\u001b[0m, in \u001b[0;36minputInt\u001b[0;34m(prompt, default, blank, timeout, limit, strip, allowRegexes, blockRegexes, applyFunc, postValidateApplyFunc, min, max, lessThan, greaterThan)\u001b[0m\n\u001b[1;32m    471\u001b[0m pysv\u001b[39m.\u001b[39m_validateParamsFor_validateNum(\u001b[39mmin\u001b[39m\u001b[39m=\u001b[39m\u001b[39mmin\u001b[39m, \u001b[39mmax\u001b[39m\u001b[39m=\u001b[39m\u001b[39mmax\u001b[39m, lessThan\u001b[39m=\u001b[39mlessThan, greaterThan\u001b[39m=\u001b[39mgreaterThan)\n\u001b[1;32m    473\u001b[0m validationFunc \u001b[39m=\u001b[39m \u001b[39mlambda\u001b[39;00m value: pysv\u001b[39m.\u001b[39mvalidateNum(\n\u001b[1;32m    474\u001b[0m     value,\n\u001b[1;32m    475\u001b[0m     blank\u001b[39m=\u001b[39mblank,\n\u001b[0;32m   (...)\u001b[0m\n\u001b[1;32m    483\u001b[0m     _numType\u001b[39m=\u001b[39m\u001b[39m\"\u001b[39m\u001b[39mint\u001b[39m\u001b[39m\"\u001b[39m,\n\u001b[1;32m    484\u001b[0m )\n\u001b[0;32m--> 486\u001b[0m result \u001b[39m=\u001b[39m _genericInput(\n\u001b[1;32m    487\u001b[0m     prompt\u001b[39m=\u001b[39;49mprompt,\n\u001b[1;32m    488\u001b[0m     default\u001b[39m=\u001b[39;49mdefault,\n\u001b[1;32m    489\u001b[0m     timeout\u001b[39m=\u001b[39;49mtimeout,\n\u001b[1;32m    490\u001b[0m     limit\u001b[39m=\u001b[39;49mlimit,\n\u001b[1;32m    491\u001b[0m     applyFunc\u001b[39m=\u001b[39;49mapplyFunc,\n\u001b[1;32m    492\u001b[0m     validationFunc\u001b[39m=\u001b[39;49mvalidationFunc,\n\u001b[1;32m    493\u001b[0m )\n\u001b[1;32m    495\u001b[0m \u001b[39mtry\u001b[39;00m:\n\u001b[1;32m    496\u001b[0m     result \u001b[39m=\u001b[39m \u001b[39mint\u001b[39m(\u001b[39mfloat\u001b[39m(result))\n",
      "File \u001b[0;32m~/.local/lib/python3.10/site-packages/pyinputplus/__init__.py:156\u001b[0m, in \u001b[0;36m_genericInput\u001b[0;34m(prompt, default, timeout, limit, applyFunc, validationFunc, postValidateApplyFunc, passwordMask)\u001b[0m\n\u001b[1;32m    154\u001b[0m \u001b[39mprint\u001b[39m(prompt, end\u001b[39m=\u001b[39m\u001b[39m\"\u001b[39m\u001b[39m\"\u001b[39m)\n\u001b[1;32m    155\u001b[0m \u001b[39mif\u001b[39;00m passwordMask \u001b[39mis\u001b[39;00m \u001b[39mNone\u001b[39;00m:\n\u001b[0;32m--> 156\u001b[0m     userInput \u001b[39m=\u001b[39m \u001b[39minput\u001b[39;49m()\n\u001b[1;32m    157\u001b[0m \u001b[39melse\u001b[39;00m:\n\u001b[1;32m    158\u001b[0m     userInput \u001b[39m=\u001b[39m stdiomask\u001b[39m.\u001b[39mgetpass(prompt\u001b[39m=\u001b[39m\u001b[39m\"\u001b[39m\u001b[39m\"\u001b[39m, mask\u001b[39m=\u001b[39mpasswordMask)\n",
      "File \u001b[0;32m~/.local/lib/python3.10/site-packages/ipykernel/kernelbase.py:1251\u001b[0m, in \u001b[0;36mKernel.raw_input\u001b[0;34m(self, prompt)\u001b[0m\n\u001b[1;32m   1249\u001b[0m     msg \u001b[39m=\u001b[39m \u001b[39m\"\u001b[39m\u001b[39mraw_input was called, but this frontend does not support input requests.\u001b[39m\u001b[39m\"\u001b[39m\n\u001b[1;32m   1250\u001b[0m     \u001b[39mraise\u001b[39;00m StdinNotImplementedError(msg)\n\u001b[0;32m-> 1251\u001b[0m \u001b[39mreturn\u001b[39;00m \u001b[39mself\u001b[39;49m\u001b[39m.\u001b[39;49m_input_request(\n\u001b[1;32m   1252\u001b[0m     \u001b[39mstr\u001b[39;49m(prompt),\n\u001b[1;32m   1253\u001b[0m     \u001b[39mself\u001b[39;49m\u001b[39m.\u001b[39;49m_parent_ident[\u001b[39m\"\u001b[39;49m\u001b[39mshell\u001b[39;49m\u001b[39m\"\u001b[39;49m],\n\u001b[1;32m   1254\u001b[0m     \u001b[39mself\u001b[39;49m\u001b[39m.\u001b[39;49mget_parent(\u001b[39m\"\u001b[39;49m\u001b[39mshell\u001b[39;49m\u001b[39m\"\u001b[39;49m),\n\u001b[1;32m   1255\u001b[0m     password\u001b[39m=\u001b[39;49m\u001b[39mFalse\u001b[39;49;00m,\n\u001b[1;32m   1256\u001b[0m )\n",
      "File \u001b[0;32m~/.local/lib/python3.10/site-packages/ipykernel/kernelbase.py:1295\u001b[0m, in \u001b[0;36mKernel._input_request\u001b[0;34m(self, prompt, ident, parent, password)\u001b[0m\n\u001b[1;32m   1292\u001b[0m \u001b[39mexcept\u001b[39;00m \u001b[39mKeyboardInterrupt\u001b[39;00m:\n\u001b[1;32m   1293\u001b[0m     \u001b[39m# re-raise KeyboardInterrupt, to truncate traceback\u001b[39;00m\n\u001b[1;32m   1294\u001b[0m     msg \u001b[39m=\u001b[39m \u001b[39m\"\u001b[39m\u001b[39mInterrupted by user\u001b[39m\u001b[39m\"\u001b[39m\n\u001b[0;32m-> 1295\u001b[0m     \u001b[39mraise\u001b[39;00m \u001b[39mKeyboardInterrupt\u001b[39;00m(msg) \u001b[39mfrom\u001b[39;00m \u001b[39mNone\u001b[39;00m\n\u001b[1;32m   1296\u001b[0m \u001b[39mexcept\u001b[39;00m \u001b[39mException\u001b[39;00m:\n\u001b[1;32m   1297\u001b[0m     \u001b[39mself\u001b[39m\u001b[39m.\u001b[39mlog\u001b[39m.\u001b[39mwarning(\u001b[39m\"\u001b[39m\u001b[39mInvalid Message:\u001b[39m\u001b[39m\"\u001b[39m, exc_info\u001b[39m=\u001b[39m\u001b[39mTrue\u001b[39;00m)\n",
      "\u001b[0;31mKeyboardInterrupt\u001b[0m: Interrupted by user"
     ]
    }
   ],
   "source": [
    "import pyinputplus as pyip\n",
    "import random\n",
    "count = 0\n",
    "min = 1\n",
    "max = 100\n",
    "\n",
    "random_number = random.randint(min,max)\n",
    "print(\"===========猜數字遊戲===========\")\n",
    "while(True):\n",
    "    keyin = pyip.inputInt(f\"猜數字範圍{min}~{max}\")\n",
    "    count += 1\n",
    "    \n",
    "    print(keyin)\n",
    "\n",
    "    if keyin == random_number:\n",
    "        print(f\"bingo!猜對了,答案是:{random_number}\")\n",
    "        print(f\"您猜了{count}次\")\n",
    "        break\n",
    "    elif keyin > random_number:\n",
    "        print(\"再小一點\")\n",
    "        max = keyin -1 \n",
    "    elif keyin < random_number:\n",
    "        print(\"再大一點\")\n",
    "        max = keyin +1 \n",
    "    \n",
    "    print(f\"您已經猜了{count}次\")\n",
    "    print(\"===================\")\n",
    "    \n",
    "print(\"遊戲結束\")"
   ]
  }
 ],
 "metadata": {
  "kernelspec": {
   "display_name": "Python 3",
   "language": "python",
   "name": "python3"
  },
  "language_info": {
   "codemirror_mode": {
    "name": "ipython",
    "version": 3
   },
   "file_extension": ".py",
   "mimetype": "text/x-python",
   "name": "python",
   "nbconvert_exporter": "python",
   "pygments_lexer": "ipython3",
   "version": "3.10.13"
  }
 },
 "nbformat": 4,
 "nbformat_minor": 2
}

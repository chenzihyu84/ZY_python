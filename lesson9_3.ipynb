{
 "cells": [
  {
   "cell_type": "code",
   "execution_count": 31,
   "metadata": {},
   "outputs": [],
   "source": [
    "class Student:\n",
    "    def __init__(self,n,c,e,m):\n",
    "        self.__name = n ##__代表不可以修改\n",
    "        self.chinese = c\n",
    "        self.english = e\n",
    "        self.math = m\n",
    "\n",
    "    @property\n",
    "    def name(self):\n",
    "        return self.__name\n",
    "    \n",
    "    def sum(self):\n",
    "        return self.chinese + self.english + self.math\n",
    "    \n",
    "    def avg(self):\n",
    "        return self.sum() / 3.0\n",
    "    \n",
    "    def __repr__(self):\n",
    "        description = \"\"\n",
    "        description += '我是Student的實體\\n'\n",
    "        description += f'chinese是{self.chinese}\\n'\n",
    "        description += f'english是{self.english}\\n'\n",
    "        description += f'math是{self.math}\\n'\n",
    "        return description"
   ]
  },
  {
   "cell_type": "code",
   "execution_count": 32,
   "metadata": {},
   "outputs": [
    {
     "name": "stdout",
     "output_type": "stream",
     "text": [
      "ZY\n",
      "100\n",
      "100\n",
      "100\n",
      "學生總分是:300\n",
      "學生平均是:100.0\n",
      "我是Student的實體\n",
      "chinese是100\n",
      "english是100\n",
      "math是100\n",
      "\n"
     ]
    }
   ],
   "source": [
    "stu1 = Student(\"ZY\",100,100,100)\n",
    "print(stu1.name)\n",
    "print(stu1.chinese)\n",
    "print(stu1.english)\n",
    "print(stu1.math)\n",
    "print(f'學生總分是:{stu1.sum()}')\n",
    "print(f'學生平均是:{stu1.avg()}')\n",
    "print(stu1)"
   ]
  },
  {
   "cell_type": "code",
   "execution_count": 26,
   "metadata": {},
   "outputs": [
    {
     "name": "stdout",
     "output_type": "stream",
     "text": [
      "98\n",
      "96\n",
      "100\n",
      "學生總分是:294\n",
      "學生平均是:98.0\n"
     ]
    }
   ],
   "source": [
    "#stu1.name = \"陳XX\"\n",
    "stu1.chinese = 98\n",
    "stu1.english = 96\n",
    "stu1.math = 100\n",
    "\n",
    "#print(stu1.__name)\n",
    "print(stu1.chinese)\n",
    "print(stu1.english)\n",
    "print(stu1.math)\n",
    "print(f'學生總分是:{stu1.sum()}')\n",
    "print(f'學生平均是:{stu1.avg()}')"
   ]
  }
 ],
 "metadata": {
  "kernelspec": {
   "display_name": "Python 3",
   "language": "python",
   "name": "python3"
  },
  "language_info": {
   "codemirror_mode": {
    "name": "ipython",
    "version": 3
   },
   "file_extension": ".py",
   "mimetype": "text/x-python",
   "name": "python",
   "nbconvert_exporter": "python",
   "pygments_lexer": "ipython3",
   "version": "3.10.13"
  }
 },
 "nbformat": 4,
 "nbformat_minor": 2
}

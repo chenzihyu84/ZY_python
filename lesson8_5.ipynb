{
 "cells": [
  {
   "cell_type": "code",
   "execution_count": 1,
   "metadata": {},
   "outputs": [
    {
     "data": {
      "text/plain": [
       "(5, 8)"
      ]
     },
     "execution_count": 1,
     "metadata": {},
     "output_type": "execute_result"
    }
   ],
   "source": [
    "#tuple,tuple[int,int]\n",
    "(5,8)"
   ]
  },
  {
   "cell_type": "code",
   "execution_count": 6,
   "metadata": {},
   "outputs": [
    {
     "name": "stdout",
     "output_type": "stream",
     "text": [
      "ZY\n",
      "98\n"
     ]
    }
   ],
   "source": [
    "#tuple的拆解法\n",
    "score,name = 98,'ZY'\n",
    "print(name)\n",
    "print(score)"
   ]
  },
  {
   "cell_type": "code",
   "execution_count": 13,
   "metadata": {},
   "outputs": [
    {
     "name": "stdout",
     "output_type": "stream",
     "text": [
      "請輸入身高，單位為公分:160.0\n",
      "請輸入體重，單位為公斤:40.0\n",
      "您的BMI是15.62,「您的體重過輕」\n",
      "請問還要繼續嗎?(y,n)'40' is not a valid yes/no response.\n",
      "請問還要繼續嗎?(y,n)結束\n"
     ]
    }
   ],
   "source": [
    "import pyinputplus as pyip\n",
    "\n",
    "def getBMI(height:float, weight:float) -> tuple[float,str]:\n",
    "    BMI = weight / (height*0.01)**2\n",
    "    message = \"\"\n",
    "    if BMI < 18.5:\n",
    "        message = \"「您的體重過輕」\"\n",
    "    elif BMI < 24:        \n",
    "        message = \"「您的體重正常」\"\n",
    "    \n",
    "    elif BMI < 27:        \n",
    "        message = \"「您的體重過重」\"\n",
    "\n",
    "    elif BMI < 30:        \n",
    "        message = \"「您的體重輕度肥胖」\"\n",
    "\n",
    "    elif BMI < 35:        \n",
    "        message = \"「您的體重中度肥胖」\"\n",
    "\n",
    "    else:        \n",
    "        message = \"「您的體重重度肥胖」\"\n",
    "\n",
    "    return (BMI,message)\n",
    "\n",
    "    \n",
    "while(True):\n",
    "\n",
    "    h = pyip.inputFloat(\"請輸入身高，單位為公分:\",min = 0)\n",
    "    print(h)\n",
    "    w = pyip.inputFloat(\"請輸入體重，單位為公斤:\",min = 0)\n",
    "    print(w)\n",
    "    bmi, message = getBMI(height=h,weight=w)\n",
    "    print(f\"您的BMI是{bmi:.2f},{message}\")\n",
    "\n",
    "    is_continue = pyip.inputYesNo(\"請問還要繼續嗎?(y,n)\")\n",
    "    if is_continue != 'yes':\n",
    "        break\n",
    "\n",
    "print(\"結束\")\n"
   ]
  }
 ],
 "metadata": {
  "kernelspec": {
   "display_name": "Python 3",
   "language": "python",
   "name": "python3"
  },
  "language_info": {
   "codemirror_mode": {
    "name": "ipython",
    "version": 3
   },
   "file_extension": ".py",
   "mimetype": "text/x-python",
   "name": "python",
   "nbconvert_exporter": "python",
   "pygments_lexer": "ipython3",
   "version": "3.10.13"
  }
 },
 "nbformat": 4,
 "nbformat_minor": 2
}

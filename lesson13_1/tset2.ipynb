{
 "cells": [
  {
   "cell_type": "code",
   "execution_count": 1,
   "metadata": {},
   "outputs": [
    {
     "ename": "ModuleNotFoundError",
     "evalue": "No module named 'openpyxl'",
     "output_type": "error",
     "traceback": [
      "\u001b[1;31m---------------------------------------------------------------------------\u001b[0m",
      "\u001b[1;31mModuleNotFoundError\u001b[0m                       Traceback (most recent call last)",
      "Cell \u001b[1;32mIn[1], line 1\u001b[0m\n\u001b[1;32m----> 1\u001b[0m \u001b[38;5;28;01mfrom\u001b[39;00m \u001b[38;5;21;01mopenpyxl\u001b[39;00m \u001b[38;5;28;01mimport\u001b[39;00m Workbook\n\u001b[0;32m      3\u001b[0m wb \u001b[38;5;241m=\u001b[39m Workbook()\n\u001b[0;32m      4\u001b[0m ws \u001b[38;5;241m=\u001b[39m wb\u001b[38;5;241m.\u001b[39mactive\n",
      "\u001b[1;31mModuleNotFoundError\u001b[0m: No module named 'openpyxl'"
     ]
    }
   ],
   "source": [
    "from openpyxl import Workbook\n",
    "\n",
    "wb = Workbook()\n",
    "ws = wb.active\n",
    "treeData = [[\"Type\", \"Leaf Color\", \"Height\"], [\"Maple\", \"Red\", 549], [\"Oak\", \"Green\", 783], [\"Pine\", \"Green\", 1204]]\n",
    "for row in treeData:\n",
    "    ws.append(row)\n",
    "wb.save(\"TreeData.xlsx\")"
   ]
  },
  {
   "cell_type": "code",
   "execution_count": 2,
   "metadata": {},
   "outputs": [
    {
     "ename": "ModuleNotFoundError",
     "evalue": "No module named 'openpyxl'",
     "output_type": "error",
     "traceback": [
      "\u001b[1;31m---------------------------------------------------------------------------\u001b[0m",
      "\u001b[1;31mModuleNotFoundError\u001b[0m                       Traceback (most recent call last)",
      "Cell \u001b[1;32mIn[2], line 1\u001b[0m\n\u001b[1;32m----> 1\u001b[0m \u001b[38;5;28;01mfrom\u001b[39;00m \u001b[38;5;21;01mopenpyxl\u001b[39;00m \u001b[38;5;28;01mimport\u001b[39;00m Workbook\n\u001b[0;32m      2\u001b[0m wb \u001b[38;5;241m=\u001b[39m Workbook()\n\u001b[0;32m      3\u001b[0m ws \u001b[38;5;241m=\u001b[39m wb\u001b[38;5;241m.\u001b[39mactive\n",
      "\u001b[1;31mModuleNotFoundError\u001b[0m: No module named 'openpyxl'"
     ]
    }
   ],
   "source": [
    "from openpyxl import Workbook\n",
    "wb = Workbook()\n",
    "ws = wb.active\n",
    "ws.title = \"3年6班\"\n",
    "ws['A1'] = \"姓名\"\n",
    "ws['B1'] = \"國文\"\n",
    "ws['C1'] = \"數學\"\n",
    "ws['D1'] = \"英文\"\n",
    "ws['E1'] = \"地理\"\n",
    "ws.append(['昌嘉洋',81,65,65,86])\n",
    "ws.append(['黃靜怡',96,49,46,100])\n",
    "ws.append(['黃詩妃',68,66,64,41])\n",
    "\n",
    "ws1 = wb.create_sheet(\"3年5班\")\n",
    "ws2 = wb.create_sheet(\"3年4班\")\n",
    "wb.save(\"3年6班.xlsx\")"
   ]
  }
 ],
 "metadata": {
  "kernelspec": {
   "display_name": "Python 3",
   "language": "python",
   "name": "python3"
  },
  "language_info": {
   "codemirror_mode": {
    "name": "ipython",
    "version": 3
   },
   "file_extension": ".py",
   "mimetype": "text/x-python",
   "name": "python",
   "nbconvert_exporter": "python",
   "pygments_lexer": "ipython3",
   "version": "3.12.1"
  }
 },
 "nbformat": 4,
 "nbformat_minor": 2
}

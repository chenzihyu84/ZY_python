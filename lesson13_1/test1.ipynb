{
 "cells": [
  {
   "cell_type": "code",
   "execution_count": 2,
   "metadata": {},
   "outputs": [],
   "source": [
    "stu1 = {\n",
    "    '姓名':'陳怡伶',\n",
    "    '國文':89,\n",
    "    '數學':100,\n",
    "    '英文':92,\n",
    "    '地理':91,\n",
    "    }\n",
    "stu2 = {\n",
    "    '姓名':'馮芳如',\n",
    "    '國文':93,\n",
    "    '數學':90,\n",
    "    '英文':82,\n",
    "    '地理':86,\n",
    "    }\n"
   ]
  },
  {
   "cell_type": "code",
   "execution_count": 4,
   "metadata": {},
   "outputs": [
    {
     "data": {
      "text/plain": [
       "[{'姓名': '陳怡伶', '國文': 89, '數學': 100, '英文': 92, '地理': 91},\n",
       " {'姓名': '馮芳如', '國文': 93, '數學': 90, '英文': 82, '地理': 86}]"
      ]
     },
     "execution_count": 4,
     "metadata": {},
     "output_type": "execute_result"
    }
   ],
   "source": [
    "students = [stu1,stu2]\n",
    "students"
   ]
  },
  {
   "cell_type": "code",
   "execution_count": 23,
   "metadata": {},
   "outputs": [
    {
     "data": {
      "text/plain": [
       "[{'姓名': '張俊傑', '國文': 75, '數學': 63, '英文': 72, '地理': 89},\n",
       " {'姓名': '陳倩潔', '國文': 72, '數學': 90, '英文': 47, '地理': 67},\n",
       " {'姓名': '游一鈺', '國文': 64, '數學': 67, '英文': 54, '地理': 91}]"
      ]
     },
     "execution_count": 23,
     "metadata": {},
     "output_type": "execute_result"
    }
   ],
   "source": [
    "from random import randint,choices\n",
    "\n",
    "def getStudents(nums:int) -> list[dict]:\n",
    "    \n",
    " \n",
    "    students:list[dict] = []\n",
    "    with open('names.txt', mode='r',encoding = 'utf-8') as file:\n",
    "        names:str = file.read()\n",
    "    namesList:list[str] = names.split('\\n')\n",
    "    names = choices(namesList,k=nums)\n",
    "    \n",
    "    for i in range(nums):\n",
    "        stu = {\n",
    "        '姓名':names[i],\n",
    "        '國文':randint(45,100),\n",
    "        '數學':randint(45,100),\n",
    "        '英文':randint(45,100),\n",
    "        '地理':randint(45,100),\n",
    "        }\n",
    "        students.append(stu)\n",
    "    return students\n",
    "\n",
    "studensts = getStudents(3)\n",
    "studensts"
   ]
  },
  {
   "cell_type": "code",
   "execution_count": 32,
   "metadata": {},
   "outputs": [
    {
     "name": "stdout",
     "output_type": "stream",
     "text": [
      "請輸入學生人數(1~50):10\n"
     ]
    },
    {
     "data": {
      "text/plain": [
       "[{'姓名': '簡國瑋', '國文': 55, '數學': 88, '英文': 66, '地理': 91},\n",
       " {'姓名': '劉林中', '國文': 77, '數學': 55, '英文': 78, '地理': 63},\n",
       " {'姓名': '賴昌韻', '國文': 75, '數學': 89, '英文': 89, '地理': 71},\n",
       " {'姓名': '沈心利', '國文': 49, '數學': 77, '英文': 47, '地理': 56},\n",
       " {'姓名': '張天亨', '國文': 64, '數學': 93, '英文': 96, '地理': 67},\n",
       " {'姓名': '簡美君', '國文': 100, '數學': 59, '英文': 86, '地理': 65},\n",
       " {'姓名': '陳凱翔', '國文': 86, '數學': 86, '英文': 72, '地理': 57},\n",
       " {'姓名': '王坤安', '國文': 52, '數學': 75, '英文': 89, '地理': 69},\n",
       " {'姓名': '孫宜珊', '國文': 51, '數學': 51, '英文': 53, '地理': 90},\n",
       " {'姓名': '陳怡伶', '國文': 56, '數學': 51, '英文': 78, '地理': 70}]"
      ]
     },
     "execution_count": 32,
     "metadata": {},
     "output_type": "execute_result"
    }
   ],
   "source": [
    "import pyinputplus as pyip\n",
    "student_num:int = pyip.inputInt(\"請輸入學生人數(1~50):\",min=1,max=50)\n",
    "print(student_num)\n",
    "students = getStudents(student_num)\n",
    "students"
   ]
  },
  {
   "cell_type": "code",
   "execution_count": 35,
   "metadata": {},
   "outputs": [
    {
     "name": "stdout",
     "output_type": "stream",
     "text": [
      "寫入成功\n",
      "請輸入檔案名稱:寫入成功\n"
     ]
    }
   ],
   "source": [
    "import csv\n",
    "from csv import DictWriter\n",
    "\n",
    "def save_to_csv(students:list[dict],fileName:str)->None:\n",
    "    fileNameWithExtension:list = fileName + '.csv'\n",
    "    with open(fileNameWithExtension,mode = 'w',encoding = 'utf-8',newline = '') as file:\n",
    "        fieldnames:list[str] = ['姓名','國文','數學','英文','地理']\n",
    "        writer:DictWriter= csv.DictWriter(file,fieldnames=fieldnames)\n",
    "        writer.writeheader()\n",
    "        writer.writerows(students)\n",
    "    print(\"寫入成功\")\n",
    "\n",
    "save_to_csv(students,'class2')\n",
    "\n",
    "fileName = pyip.inputFilename(\"請輸入檔案名稱:\")\n",
    "save_to_csv(students,fileName)"
   ]
  },
  {
   "cell_type": "markdown",
   "metadata": {},
   "source": [
    "\n"
   ]
  }
 ],
 "metadata": {
  "kernelspec": {
   "display_name": "Python 3",
   "language": "python",
   "name": "python3"
  },
  "language_info": {
   "codemirror_mode": {
    "name": "ipython",
    "version": 3
   },
   "file_extension": ".py",
   "mimetype": "text/x-python",
   "name": "python",
   "nbconvert_exporter": "python",
   "pygments_lexer": "ipython3",
   "version": "3.10.13"
  }
 },
 "nbformat": 4,
 "nbformat_minor": 2
}

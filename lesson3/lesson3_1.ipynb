{
 "cells": [
  {
   "cell_type": "code",
   "execution_count": 1,
   "metadata": {},
   "outputs": [
    {
     "name": "stdout",
     "output_type": "stream",
     "text": [
      "11 + 1.7 = 12.7\n"
     ]
    }
   ],
   "source": [
    "n = eval (input(\"輸入n\"))\n",
    "m = eval (input(\"輸入m\"))\n",
    "total = n + m\n",
    "print(n,'+',m,'=',total)"
   ]
  },
  {
   "cell_type": "code",
   "execution_count": 8,
   "metadata": {},
   "outputs": [
    {
     "name": "stdout",
     "output_type": "stream",
     "text": [
      "4 2.1 dd 1234.1232\n"
     ]
    }
   ],
   "source": [
    "print(4,'2.1','dd',1234.1232)"
   ]
  },
  {
   "cell_type": "code",
   "execution_count": 3,
   "metadata": {},
   "outputs": [
    {
     "name": "stdout",
     "output_type": "stream",
     "text": [
      "3.1234+1.234567=4.36\n"
     ]
    }
   ],
   "source": [
    "n = eval (input(\"輸入n\"))\n",
    "m = eval (input(\"輸入m\"))\n",
    "total = n + m\n",
    "print(f\"{n}+{m}={total:.2f}\")"
   ]
  }
 ],
 "metadata": {
  "kernelspec": {
   "display_name": "Python 3",
   "language": "python",
   "name": "python3"
  },
  "language_info": {
   "codemirror_mode": {
    "name": "ipython",
    "version": 3
   },
   "file_extension": ".py",
   "mimetype": "text/x-python",
   "name": "python",
   "nbconvert_exporter": "python",
   "pygments_lexer": "ipython3",
   "version": "3.10.13"
  }
 },
 "nbformat": 4,
 "nbformat_minor": 2
}

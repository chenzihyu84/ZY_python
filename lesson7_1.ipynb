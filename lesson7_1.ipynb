{
 "cells": [
  {
   "cell_type": "code",
   "execution_count": 2,
   "metadata": {},
   "outputs": [
    {
     "name": "stdout",
     "output_type": "stream",
     "text": [
      "請輸入第{month}月存款:7000\n",
      "請輸入第{month}月存款:12000\n",
      "請輸入第{month}月存款:3000\n",
      "請輸入第{month}月存款:5000\n",
      "請輸入第{month}月存款:4000\n",
      "恭喜!已經存夠了,共存了5月份,總存款為:31000\n"
     ]
    }
   ],
   "source": [
    "import pyinputplus as pyip\n",
    "deposit = 0\n",
    "month = 0\n",
    "while deposit < 30000:\n",
    "    month += 1\n",
    "    money = pyip.inputInt(\"請輸入第{month}月存款:\")\n",
    "    \n",
    "    print(money)\n",
    "    deposit += money\n",
    "\n",
    "print(f\"恭喜!已經存夠了,共存了{month}月份,總存款為:{deposit}\")"
   ]
  },
  {
   "cell_type": "code",
   "execution_count": 5,
   "metadata": {},
   "outputs": [
    {
     "name": "stdout",
     "output_type": "stream",
     "text": [
      "請輸入小寫英文字[按q會離開]:Taiwan\n",
      "請輸入小寫英文字[按q會離開]:Korea\n",
      "請輸入小寫英文字[按q會離開]:結束程式\n"
     ]
    }
   ],
   "source": [
    "#輸入小寫的英文字,列印出第一個字大寫的英文字\n",
    "#如果輸入q,就會離開\n",
    "import pyinputplus as pyip\n",
    "stuff = pyip.inputStr(\"請輸入小寫英文字[按q會離開]:\")\n",
    "while(stuff != 'q'):\n",
    "    print(stuff.capitalize())\n",
    "    stuff = pyip.inputStr(\"請輸入小寫英文字[按q會離開]:\")\n",
    "\n",
    "print(\"結束程式\")"
   ]
  },
  {
   "cell_type": "code",
   "execution_count": 8,
   "metadata": {},
   "outputs": [
    {
     "name": "stdout",
     "output_type": "stream",
     "text": [
      "請輸入小寫英文字[按q會離開]:America\n",
      "請輸入小寫英文字[按q會離開]:結束程式\n"
     ]
    }
   ],
   "source": [
    "#輸入小寫的英文字,列印出第一個字大寫的英文字\n",
    "#如果輸入q,就會離開\n",
    "import pyinputplus as pyip\n",
    "\n",
    "while(True):\n",
    "    stuff = pyip.inputStr(\"請輸入小寫英文字[按q會離開]:\")\n",
    "    if stuff == \"q\":\n",
    "         break\n",
    "    print(stuff.capitalize())\n",
    "    \n",
    "       \n",
    "print(\"結束程式\")"
   ]
  },
  {
   "cell_type": "code",
   "execution_count": 11,
   "metadata": {},
   "outputs": [
    {
     "name": "stdout",
     "output_type": "stream",
     "text": [
      "請輸入第1位學生成績:100\n",
      "請輸入第2位學生成績:90\n",
      "請輸入第3位學生成績:89\n",
      "請輸入第4位學生成績:-1\n",
      "全班總成績:279,平均為93.0\n"
     ]
    }
   ],
   "source": [
    "import pyinputplus as pyip\n",
    "sum = 0\n",
    "num = 0\n",
    "while(True):\n",
    "    score = pyip.inputInt(f\"請輸入第{num+1}位學生成績:\")\n",
    "    print(score)\n",
    "    if score < 0:\n",
    "        break\n",
    "    num += 1\n",
    "    sum += score\n",
    "\n",
    "print(f\"全班總成績:{sum},平均為{sum/num}\")"
   ]
  },
  {
   "cell_type": "code",
   "execution_count": 22,
   "metadata": {},
   "outputs": [
    {
     "name": "stdout",
     "output_type": "stream",
     "text": [
      "7的平方是49\n",
      "不做事\n",
      "不做事\n",
      "應用程式結束\n"
     ]
    }
   ],
   "source": [
    "#顯示:\n",
    "#奇數輸出平方\n",
    "#偶數不做任何動作\n",
    "#'q'要離開\n",
    "\n",
    "while(True):\n",
    "    value = input(\"請輸入整數,輸入[q]就離開:\")\n",
    "    if value == 'q':\n",
    "        break\n",
    "    if value == 'Q':\n",
    "        break\n",
    "    if value == 'Quit':\n",
    "        break\n",
    "    if value == 'quit':\n",
    "        break\n",
    "    if value == 'QUIT':\n",
    "        break\n",
    "    \n",
    "    try:\n",
    "        valueInt = int(value)\n",
    "    except:\n",
    "        print(f\"{value}格式錯誤\")\n",
    "        continue\n",
    "\n",
    "    if valueInt%2 == 1:\n",
    "        print(f\"{valueInt}的平方是{valueInt**2}\")\n",
    "    else:\n",
    "        print(\"不做事\")\n",
    "\n",
    "print(\"應用程式結束\")"
   ]
  }
 ],
 "metadata": {
  "kernelspec": {
   "display_name": "Python 3",
   "language": "python",
   "name": "python3"
  },
  "language_info": {
   "codemirror_mode": {
    "name": "ipython",
    "version": 3
   },
   "file_extension": ".py",
   "mimetype": "text/x-python",
   "name": "python",
   "nbconvert_exporter": "python",
   "pygments_lexer": "ipython3",
   "version": "3.10.13"
  }
 },
 "nbformat": 4,
 "nbformat_minor": 2
}

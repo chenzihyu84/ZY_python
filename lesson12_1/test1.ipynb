{
 "cells": [
  {
   "cell_type": "code",
   "execution_count": 2,
   "metadata": {},
   "outputs": [],
   "source": [
    "stu1 = {\n",
    "    '姓名':'陳怡伶',\n",
    "    '國文':89,\n",
    "    '數學':100,\n",
    "    '英文':92,\n",
    "    '地理':91,\n",
    "    }\n",
    "stu2 = {\n",
    "    '姓名':'馮芳如',\n",
    "    '國文':93,\n",
    "    '數學':90,\n",
    "    '英文':82,\n",
    "    '地理':86,\n",
    "    }\n"
   ]
  },
  {
   "cell_type": "code",
   "execution_count": 4,
   "metadata": {},
   "outputs": [
    {
     "data": {
      "text/plain": [
       "[{'姓名': '陳怡伶', '國文': 89, '數學': 100, '英文': 92, '地理': 91},\n",
       " {'姓名': '馮芳如', '國文': 93, '數學': 90, '英文': 82, '地理': 86}]"
      ]
     },
     "execution_count": 4,
     "metadata": {},
     "output_type": "execute_result"
    }
   ],
   "source": [
    "students = [stu1,stu2]\n",
    "students"
   ]
  },
  {
   "cell_type": "code",
   "execution_count": 23,
   "metadata": {},
   "outputs": [
    {
     "data": {
      "text/plain": [
       "[{'姓名': '張俊傑', '國文': 75, '數學': 63, '英文': 72, '地理': 89},\n",
       " {'姓名': '陳倩潔', '國文': 72, '數學': 90, '英文': 47, '地理': 67},\n",
       " {'姓名': '游一鈺', '國文': 64, '數學': 67, '英文': 54, '地理': 91}]"
      ]
     },
     "execution_count": 23,
     "metadata": {},
     "output_type": "execute_result"
    }
   ],
   "source": [
    "from random import randint,choices\n",
    "\n",
    "def getStudents(nums:int) -> list[dict]:\n",
    "    \n",
    " \n",
    "    students:list[dict] = []\n",
    "    with open('names.txt', mode='r',encoding = 'utf-8') as file:\n",
    "        names:str = file.read()\n",
    "    namesList:list[str] = names.split('\\n')\n",
    "    names = choices(namesList,k=nums)\n",
    "    \n",
    "    for i in range(nums):\n",
    "        stu = {\n",
    "        '姓名':names[i],\n",
    "        '國文':randint(45,100),\n",
    "        '數學':randint(45,100),\n",
    "        '英文':randint(45,100),\n",
    "        '地理':randint(45,100),\n",
    "        }\n",
    "        students.append(stu)\n",
    "    return students\n",
    "\n",
    "studensts = getStudents(3)\n",
    "studensts"
   ]
  },
  {
   "cell_type": "code",
   "execution_count": 28,
   "metadata": {},
   "outputs": [
    {
     "name": "stdout",
     "output_type": "stream",
     "text": [
      "請輸入學生人數(1~50):7\n"
     ]
    },
    {
     "data": {
      "text/plain": [
       "[{'姓名': '翁鈺婷', '國文': 68, '數學': 45, '英文': 49, '地理': 73},\n",
       " {'姓名': '詹忠光', '國文': 67, '數學': 60, '英文': 93, '地理': 59},\n",
       " {'姓名': '林建宏', '國文': 97, '數學': 79, '英文': 80, '地理': 62},\n",
       " {'姓名': '吳明妮', '國文': 88, '數學': 54, '英文': 79, '地理': 56},\n",
       " {'姓名': '陳逸凡', '國文': 57, '數學': 100, '英文': 94, '地理': 85},\n",
       " {'姓名': '陳凱翔', '國文': 79, '數學': 62, '英文': 55, '地理': 45},\n",
       " {'姓名': '謝哲維', '國文': 81, '數學': 100, '英文': 45, '地理': 45}]"
      ]
     },
     "execution_count": 28,
     "metadata": {},
     "output_type": "execute_result"
    }
   ],
   "source": [
    "import pyinputplus as pyip\n",
    "student_num:int = pyip.inputInt(\"請輸入學生人數(1~50):\",min=1,max=50)\n",
    "print(student_num)\n",
    "students = getStudents(student_num)\n",
    "students"
   ]
  },
  {
   "cell_type": "code",
   "execution_count": 29,
   "metadata": {},
   "outputs": [
    {
     "name": "stdout",
     "output_type": "stream",
     "text": [
      "寫入成功\n"
     ]
    }
   ],
   "source": [
    "import csv\n",
    "with open(\"class1.csv\",mode = 'w',encoding = 'utf-8',newline = '') as file:\n",
    "    fieldnames = ['姓名','國文','數學','英文','地理']\n",
    "    writer = csv.DictWriter(file,fieldnames=fieldnames)\n",
    "    writer.writeheader()\n",
    "    writer.writerows(students)\n",
    "print(\"寫入成功\")"
   ]
  },
  {
   "cell_type": "markdown",
   "metadata": {},
   "source": []
  }
 ],
 "metadata": {
  "kernelspec": {
   "display_name": "Python 3",
   "language": "python",
   "name": "python3"
  },
  "language_info": {
   "codemirror_mode": {
    "name": "ipython",
    "version": 3
   },
   "file_extension": ".py",
   "mimetype": "text/x-python",
   "name": "python",
   "nbconvert_exporter": "python",
   "pygments_lexer": "ipython3",
   "version": "3.10.13"
  }
 },
 "nbformat": 4,
 "nbformat_minor": 2
}

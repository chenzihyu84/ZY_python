{
 "cells": [
  {
   "cell_type": "code",
   "execution_count": 2,
   "metadata": {},
   "outputs": [],
   "source": [
    "from openpyxl import Workbook\n",
    "\n",
    "wb = Workbook()\n",
    "ws = wb.active\n",
    "treeData = [[\"Type\", \"Leaf Color\", \"Height\"], [\"Maple\", \"Red\", 549], [\"Oak\", \"Green\", 783], [\"Pine\", \"Green\", 1204]]\n",
    "for row in treeData:\n",
    "    ws.append(row)\n",
    "wb.save(\"TreeData.xlsx\")"
   ]
  },
  {
   "cell_type": "code",
   "execution_count": 5,
   "metadata": {},
   "outputs": [],
   "source": [
    "from openpyxl import Workbook\n",
    "wb = Workbook()\n",
    "ws = wb.active\n",
    "ws.title = \"3年6班\"\n",
    "ws['A1'] = \"姓名\"\n",
    "ws['B1'] = \"國文\"\n",
    "ws['C1'] = \"數學\"\n",
    "ws['D1'] = \"英文\"\n",
    "ws['E1'] = \"地理\"\n",
    "ws.append(['昌嘉洋',81,65,65,86])\n",
    "ws.append(['黃靜怡',96,49,46,100])\n",
    "ws.append(['黃詩妃',68,66,64,41])\n",
    "\n",
    "ws1 = wb.create_sheet(\"3年5班\")\n",
    "ws2 = wb.create_sheet(\"3年4班\")\n",
    "wb.save(\"3年6班.xlsx\")"
   ]
  }
 ],
 "metadata": {
  "kernelspec": {
   "display_name": "Python 3",
   "language": "python",
   "name": "python3"
  },
  "language_info": {
   "codemirror_mode": {
    "name": "ipython",
    "version": 3
   },
   "file_extension": ".py",
   "mimetype": "text/x-python",
   "name": "python",
   "nbconvert_exporter": "python",
   "pygments_lexer": "ipython3",
   "version": "3.10.13"
  }
 },
 "nbformat": 4,
 "nbformat_minor": 2
}

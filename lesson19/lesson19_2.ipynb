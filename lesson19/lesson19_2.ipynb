{
 "cells": [
  {
   "cell_type": "code",
   "execution_count": null,
   "metadata": {},
   "outputs": [],
   "source": [
    "import numpy as np\n",
    "import pandas as pd\n",
    "score = np.random.randint(50,101,size=(50,5))\n",
    "score_pd = pd.DataFrame(score,columns=['國文','英文','數學','地理','歷史'],index=range(1,51))\n",
    "score_pd"
   ]
  }
 ],
 "metadata": {
  "language_info": {
   "name": "python"
  }
 },
 "nbformat": 4,
 "nbformat_minor": 2
}

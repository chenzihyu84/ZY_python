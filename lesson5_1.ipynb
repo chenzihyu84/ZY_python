{
 "cells": [
  {
   "cell_type": "code",
   "execution_count": 4,
   "metadata": {},
   "outputs": [
    {
     "ename": "SyntaxError",
     "evalue": "invalid decimal literal (<string>, line 1)",
     "output_type": "error",
     "traceback": [
      "Traceback \u001b[0;36m(most recent call last)\u001b[0m:\n",
      "\u001b[0m  File \u001b[1;32m~/.local/lib/python3.10/site-packages/IPython/core/interactiveshell.py:3548\u001b[0m in \u001b[1;35mrun_code\u001b[0m\n    exec(code_obj, self.user_global_ns, self.user_ns)\u001b[0m\n",
      "\u001b[0;36m  Cell \u001b[0;32mIn[4], line 1\u001b[0;36m\n\u001b[0;31m    money = eval(input(\"請輸入金額:\"))\u001b[0;36m\n",
      "\u001b[0;36m  File \u001b[0;32m<string>:1\u001b[0;36m\u001b[0m\n\u001b[0;31m    23a\u001b[0m\n\u001b[0m     ^\u001b[0m\n\u001b[0;31mSyntaxError\u001b[0m\u001b[0;31m:\u001b[0m invalid decimal literal\n"
     ]
    }
   ],
   "source": [
    "money = eval(input(\"請輸入金額:\"))\n",
    "print(money)"
   ]
  },
  {
   "cell_type": "code",
   "execution_count": 6,
   "metadata": {},
   "outputs": [
    {
     "name": "stdout",
     "output_type": "stream",
     "text": [
      "輸入格式有問題\n",
      "應用程式結束\n"
     ]
    }
   ],
   "source": [
    "#處理raise exception\n",
    "try:\n",
    "    money = int(input(\"請輸入金額(整數):\"))\n",
    "    print(money)\n",
    "except:\n",
    "    print(\"輸入格式有問題\")\n",
    "\n",
    "print(\"應用程式結束\")"
   ]
  },
  {
   "cell_type": "code",
   "execution_count": null,
   "metadata": {},
   "outputs": [],
   "source": [
    "try:\n",
    "    money = int(input(\"請輸入金額(整數):\"))\n",
    "    F1 = eval(input(\"請輸入浮點數:\"))\n",
    "    raise KeyboardInterrupt\n",
    "    print(money)\n",
    "except SyntaxError:\n",
    "    print(\"輸入浮點數時有問題\")\n",
    "except ValueError:\n",
    "    print(\"輸入金額時有問題\")\n",
    "except:\n",
    "    print(\"不知名的錯誤\")\n",
    "    \n",
    "print(\"應用程式結束\")"
   ]
  },
  {
   "cell_type": "code",
   "execution_count": 10,
   "metadata": {},
   "outputs": [
    {
     "name": "stdout",
     "output_type": "stream",
     "text": [
      "34\n",
      "12.5\n",
      "應用程式結束\n"
     ]
    }
   ],
   "source": [
    "try:\n",
    "    money = int(input(\"請輸入金額(整數):\"))\n",
    "    F1 = eval(input(\"請輸入浮點數:\"))\n",
    "   \n",
    "except SyntaxError:\n",
    "    print(\"輸入浮點數時有問題\")\n",
    "except ValueError:\n",
    "    print(\"輸入金額時有問題\")\n",
    "except:\n",
    "    print(\"不知名的錯誤\")\n",
    "else:\n",
    "    print(money)\n",
    "    print(F1)\n",
    "    \n",
    "print(\"應用程式結束\")"
   ]
  },
  {
   "cell_type": "code",
   "execution_count": 12,
   "metadata": {},
   "outputs": [
    {
     "name": "stdout",
     "output_type": "stream",
     "text": [
      "學生分數不能超過300\n"
     ]
    }
   ],
   "source": [
    "#學生總分為300\n",
    "#要檢查學生輸入分數是<=300\n",
    "#要檢查輸入格式是否正確\n",
    "#有些學生可以加5%\n",
    "#如果加分超過300分,以300分為準\n",
    "try:\n",
    "    score = int(input(\"請輸入學生分數\"))\n",
    "    \n",
    "except ValueError:\n",
    "    print(\"格式有錯\")\n",
    "except:\n",
    "    print(\"不知名的錯誤\")\n",
    "else:\n",
    "    if score <= 300:\n",
    "        is_add = input(\"學生是否符合加分條件?(y,n)\")\n",
    "\n",
    "        if is_add == \"y\":\n",
    "            score *= 1.05\n",
    "            if score > 300:\n",
    "                score = 300\n",
    "        print(f\"學生分數是{round(score)}\")\n",
    "    else:\n",
    "        print(\"學生分數不能超過300\")\n",
    "    \n",
    "#print(f\"學生分數是{score:.0f}\")\n",
    "#print(f\"學生分數是{int(score)}\")"
   ]
  }
 ],
 "metadata": {
  "kernelspec": {
   "display_name": "Python 3",
   "language": "python",
   "name": "python3"
  },
  "language_info": {
   "codemirror_mode": {
    "name": "ipython",
    "version": 3
   },
   "file_extension": ".py",
   "mimetype": "text/x-python",
   "name": "python",
   "nbconvert_exporter": "python",
   "pygments_lexer": "ipython3",
   "version": "3.10.13"
  }
 },
 "nbformat": 4,
 "nbformat_minor": 2
}

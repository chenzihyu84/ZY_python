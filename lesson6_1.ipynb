{
 "cells": [
  {
   "cell_type": "code",
   "execution_count": 5,
   "metadata": {},
   "outputs": [
    {
     "name": "stdout",
     "output_type": "stream",
     "text": [
      "輸入金額:9900\n",
      "9900\n"
     ]
    }
   ],
   "source": [
    "import pyinputplus as pyip\n",
    "pay = pyip.inputInt(\"輸入金額:\")\n",
    "print(pay)\n",
    "if pay >=100000:\n",
    "    pay*=0.8\n",
    "    print(pay)\n",
    "elif pay >50000:\n",
    "    pay*=0.85\n",
    "    print(pay)\n",
    "elif pay >30000:\n",
    "    pay*=0.9\n",
    "    print(pay)\n",
    "elif pay >10000:\n",
    "    pay*=0.95\n",
    "    print(pay)\n",
    "else:\n",
    "    print(pay)"
   ]
  },
  {
   "cell_type": "code",
   "execution_count": 7,
   "metadata": {},
   "outputs": [
    {
     "name": "stdout",
     "output_type": "stream",
     "text": [
      "成年\n"
     ]
    }
   ],
   "source": [
    "#not運算子\n",
    "age = 18\n",
    "\n",
    "if not age >= 18:\n",
    "    print(\"未成年\")\n",
    "else:\n",
    "    print(\"成年\")"
   ]
  },
  {
   "cell_type": "code",
   "execution_count": 13,
   "metadata": {},
   "outputs": [
    {
     "name": "stdout",
     "output_type": "stream",
     "text": [
      "請輸入國文分數:80\n",
      "請輸入數學分數:90\n",
      "獎金:0\n"
     ]
    }
   ],
   "source": [
    "#國文數學同時100,獎金1000\n",
    "import pyinputplus as pyip \n",
    "chinese = pyip.inputInt(\"請輸入國文分數:\",min=0,max=100)\n",
    "print(chinese)\n",
    "math = pyip.inputInt(\"請輸入數學分數:\",min=0,max=100)\n",
    "print(math)\n",
    "\n",
    "if chinese == 100:\n",
    "    if math == 100:\n",
    "        bonus =1000\n",
    "    else:\n",
    "        bonus =500\n",
    "elif math == 100:\n",
    "    bonus =500\n",
    "else:\n",
    "     bonus =0\n",
    "print(f\"獎金:{bonus}\")\n"
   ]
  },
  {
   "cell_type": "code",
   "execution_count": 20,
   "metadata": {},
   "outputs": [
    {
     "name": "stdout",
     "output_type": "stream",
     "text": [
      "請輸入國文分數:99\n",
      "請輸入數學分數:99\n",
      "獎金:0\n"
     ]
    }
   ],
   "source": [
    "#國文數學同時100,獎金1000\n",
    "import pyinputplus as pyip \n",
    "chinese = pyip.inputInt(\"請輸入國文分數:\",min=0,max=100)\n",
    "print(chinese)\n",
    "math = pyip.inputInt(\"請輸入數學分數:\",min=0,max=100)\n",
    "print(math)\n",
    "\n",
    "if chinese == 100 and math ==100:\n",
    "    bonus = 1000\n",
    "elif chinese == 100 or math ==100:\n",
    "    bonus = 500\n",
    "else:\n",
    "    bonus = 0\n",
    "print(f\"獎金:{bonus}\")\n",
    "    "
   ]
  },
  {
   "cell_type": "code",
   "execution_count": 24,
   "metadata": {},
   "outputs": [
    {
     "name": "stdout",
     "output_type": "stream",
     "text": [
      "請輸入身高:159\n",
      "請輸入體重:41\n",
      "你的BM是:16.21771290692615\n",
      "體重過輕\n"
     ]
    }
   ],
   "source": [
    "import pyinputplus as pyip \n",
    "height = pyip.inputInt(\"請輸入身高:\")\n",
    "print(height)\n",
    "weight = pyip.inputInt(\"請輸入體重:\")\n",
    "print(weight)\n",
    "BMI = weight/(height*height*0.0001)\n",
    "print(f\"你的BM是:{BMI}\")\n",
    "if BMI<18.5:\n",
    "    print(\"體重過輕\")\n",
    "elif BMI<24:\n",
    "    print(\"正常範圍\")\n",
    "elif BMI<27:\n",
    "    print(\"過重\")\n",
    "elif BMI<30:\n",
    "    print(\"輕度肥胖\")\n",
    "elif BMI<35:\n",
    "    print(\"中度肥胖\")\n",
    "else:\n",
    "    print(\"重度肥胖\")"
   ]
  }
 ],
 "metadata": {
  "kernelspec": {
   "display_name": "Python 3",
   "language": "python",
   "name": "python3"
  },
  "language_info": {
   "codemirror_mode": {
    "name": "ipython",
    "version": 3
   },
   "file_extension": ".py",
   "mimetype": "text/x-python",
   "name": "python",
   "nbconvert_exporter": "python",
   "pygments_lexer": "ipython3",
   "version": "3.10.13"
  }
 },
 "nbformat": 4,
 "nbformat_minor": 2
}

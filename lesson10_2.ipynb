{
 "cells": [
  {
   "cell_type": "code",
   "execution_count": null,
   "metadata": {},
   "outputs": [],
   "source": [
    "with open('names.txt', mode='r',encoding = 'utf-8') as file:\n",
    "    names:str = file.read()\n",
    "\n",
    "namesList:list[str] = names.split('\\n')\n",
    "\n",
    "for names in namesList :\n",
    "    print(names)"
   ]
  },
  {
   "cell_type": "code",
   "execution_count": 9,
   "metadata": {},
   "outputs": [
    {
     "name": "stdout",
     "output_type": "stream",
     "text": [
      "命名選取器(請輸入1~10)"
     ]
    },
    {
     "name": "stdout",
     "output_type": "stream",
     "text": [
      "您有以下的建議名字:\n",
      "['劉雯芬', '李立偉', '詹忠光', '黃柏宇', '陳建豪']\n"
     ]
    }
   ],
   "source": [
    "import random\n",
    "import pyinputplus as pyip\n",
    "\n",
    "numbers:int = pyip.inputInt(\"命名選取器(請輸入1~10)\",min=1,max=10)\n",
    "print(\"您有以下的建議名字:\")\n",
    "namePart:list[str] = random.choices(namesList,k=numbers)\n",
    "print(namePart)"
   ]
  },
  {
   "cell_type": "code",
   "execution_count": 13,
   "metadata": {},
   "outputs": [
    {
     "data": {
      "text/plain": [
       "[87, 89]"
      ]
     },
     "execution_count": 13,
     "metadata": {},
     "output_type": "execute_result"
    }
   ],
   "source": [
    "import random\n",
    "[random.randint(40,100),random.randint(40,100)]\n"
   ]
  },
  {
   "cell_type": "code",
   "execution_count": 30,
   "metadata": {},
   "outputs": [
    {
     "data": {
      "text/plain": [
       "[81, 45, 47, 56, 59]"
      ]
     },
     "execution_count": 30,
     "metadata": {},
     "output_type": "execute_result"
    }
   ],
   "source": [
    "stu:list[int] = []\n",
    "scores_nums:int = 5\n",
    "for i in range(scores_nums):\n",
    "    stu.append(random.randint(40,100))\n",
    "stu"
   ]
  },
  {
   "cell_type": "code",
   "execution_count": 41,
   "metadata": {},
   "outputs": [
    {
     "name": "stdout",
     "output_type": "stream",
     "text": [
      "請輸入學生人數(1~50):7\n",
      "['黃嘉琪', 93, 97, 87, 80, 85]\n",
      "['鞠冠宇', 79, 48, 73, 88, 58]\n",
      "['林柏洋', 42, 77, 88, 59, 46]\n",
      "['許芳如', 56, 83, 76, 44, 97]\n",
      "['劉雯芬', 81, 63, 52, 66, 70]\n",
      "['馮耀中', 45, 85, 96, 47, 94]\n",
      "['李彥伸', 71, 86, 49, 55, 58]\n"
     ]
    }
   ],
   "source": [
    "student_num = pyip.inputInt(\"請輸入學生人數(1~50):\",min=1,max=50)\n",
    "print(student_num)\n",
    "names:list[str] = random.choices(namesList,k=student_num)\n",
    "for name in names:\n",
    "    stu:list[int|str] = []\n",
    "    stu.append(name)\n",
    "    scores_nums:int = 5\n",
    "    for i in range(scores_nums):\n",
    "        stu.append(random.randint(40,100))\n",
    "    print(stu)\n"
   ]
  }
 ],
 "metadata": {
  "kernelspec": {
   "display_name": "Python 3",
   "language": "python",
   "name": "python3"
  },
  "language_info": {
   "codemirror_mode": {
    "name": "ipython",
    "version": 3
   },
   "file_extension": ".py",
   "mimetype": "text/x-python",
   "name": "python",
   "nbconvert_exporter": "python",
   "pygments_lexer": "ipython3",
   "version": "3.10.13"
  }
 },
 "nbformat": 4,
 "nbformat_minor": 2
}

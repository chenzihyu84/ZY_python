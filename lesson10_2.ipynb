{
 "cells": [
  {
   "cell_type": "code",
   "execution_count": null,
   "metadata": {},
   "outputs": [],
   "source": [
    "with open('names.txt', mode='r',encoding = 'utf-8') as file:\n",
    "    names:str = file.read()\n",
    "\n",
    "namesList:list[str] = names.split('\\n')\n",
    "\n",
    "for names in namesList :\n",
    "    print(names)"
   ]
  },
  {
   "cell_type": "code",
   "execution_count": 9,
   "metadata": {},
   "outputs": [
    {
     "name": "stdout",
     "output_type": "stream",
     "text": [
      "命名選取器(請輸入1~10)"
     ]
    },
    {
     "name": "stdout",
     "output_type": "stream",
     "text": [
      "您有以下的建議名字:\n",
      "['劉雯芬', '李立偉', '詹忠光', '黃柏宇', '陳建豪']\n"
     ]
    }
   ],
   "source": [
    "import random\n",
    "import pyinputplus as pyip\n",
    "\n",
    "numbers:int = pyip.inputInt(\"命名選取器(請輸入1~10)\",min=1,max=10)\n",
    "print(\"您有以下的建議名字:\")\n",
    "namePart:list[str] = random.choices(namesList,k=numbers)\n",
    "print(namePart)"
   ]
  },
  {
   "cell_type": "code",
   "execution_count": 13,
   "metadata": {},
   "outputs": [
    {
     "data": {
      "text/plain": [
       "[87, 89]"
      ]
     },
     "execution_count": 13,
     "metadata": {},
     "output_type": "execute_result"
    }
   ],
   "source": [
    "import random\n",
    "[random.randint(40,100),random.randint(40,100)]\n"
   ]
  },
  {
   "cell_type": "code",
   "execution_count": 30,
   "metadata": {},
   "outputs": [
    {
     "data": {
      "text/plain": [
       "[81, 45, 47, 56, 59]"
      ]
     },
     "execution_count": 30,
     "metadata": {},
     "output_type": "execute_result"
    }
   ],
   "source": [
    "stu:list[int] = []\n",
    "scores_nums:int = 5\n",
    "for i in range(scores_nums):\n",
    "    stu.append(random.randint(40,100))\n",
    "stu"
   ]
  },
  {
   "cell_type": "code",
   "execution_count": 43,
   "metadata": {},
   "outputs": [
    {
     "name": "stdout",
     "output_type": "stream",
     "text": [
      "請輸入學生人數(1~50):5\n",
      "請輸入科目數:6\n"
     ]
    },
    {
     "data": {
      "text/plain": [
       "[['楊火帆', 48, 91, 64, 88, 100, 69],\n",
       " ['盧冠發', 99, 97, 60, 83, 70, 91],\n",
       " ['孫宜珊', 98, 56, 47, 93, 61, 95],\n",
       " ['簡美君', 78, 64, 96, 58, 60, 84],\n",
       " ['張軒宸', 84, 41, 81, 71, 51, 56]]"
      ]
     },
     "execution_count": 43,
     "metadata": {},
     "output_type": "execute_result"
    }
   ],
   "source": [
    "student_num = pyip.inputInt(\"請輸入學生人數(1~50):\",min=1,max=50)\n",
    "print(student_num)\n",
    "scores_nums:int = pyip.inputInt(\"請輸入科目數:\",min=1,max=7)\n",
    "print(scores_nums)\n",
    "\n",
    "students:list[list] = []\n",
    "\n",
    "names:list[str] = random.choices(namesList,k=student_num)\n",
    "for name in names:\n",
    "    stu:list[int|str] = []\n",
    "    stu.append(name)\n",
    "    for i in range(scores_nums):\n",
    "        stu.append(random.randint(40,100))\n",
    "    students.append(stu)\n",
    "\n",
    "students"
   ]
  }
 ],
 "metadata": {
  "kernelspec": {
   "display_name": "Python 3",
   "language": "python",
   "name": "python3"
  },
  "language_info": {
   "codemirror_mode": {
    "name": "ipython",
    "version": 3
   },
   "file_extension": ".py",
   "mimetype": "text/x-python",
   "name": "python",
   "nbconvert_exporter": "python",
   "pygments_lexer": "ipython3",
   "version": "3.10.13"
  }
 },
 "nbformat": 4,
 "nbformat_minor": 2
}

{
 "cells": [
  {
   "cell_type": "code",
   "execution_count": 2,
   "metadata": {},
   "outputs": [
    {
     "name": "stderr",
     "output_type": "stream",
     "text": [
      "/home/vscode/.local/lib/python3.10/site-packages/urllib3/connectionpool.py:1099: InsecureRequestWarning: Unverified HTTPS request is being made to host 'opendata.cwa.gov.tw'. Adding certificate verification is strongly advised. See: https://urllib3.readthedocs.io/en/latest/advanced-usage.html#tls-warnings\n",
      "  warnings.warn(\n"
     ]
    },
    {
     "name": "stdout",
     "output_type": "stream",
     "text": [
      "                          日期時間   縣市    區域     溫度  狀態\n",
      "0    2024-01-06T19:00:00+08:00  屏東縣   滿州鄉   31.0   陰\n",
      "1    2024-01-06T19:00:00+08:00  屏東縣   滿州鄉   13.0   陰\n",
      "2    2024-01-06T19:00:00+08:00  屏東縣   恆春鎮   13.0   陰\n",
      "3    2024-01-06T19:00:00+08:00  屏東縣   恆春鎮   33.0   陰\n",
      "4    2024-01-06T19:00:00+08:00  屏東縣   車城鄉   30.0   陰\n",
      "..                         ...  ...   ...    ...  ..\n",
      "464  2024-01-06T19:00:00+08:00  嘉義縣  阿里山鄉  440.0  多雲\n",
      "465  2024-01-06T19:00:00+08:00  雲林縣   古坑鄉  117.0   晴\n",
      "466  2024-01-06T19:00:00+08:00  雲林縣   水林鄉   15.0  多雲\n",
      "467  2024-01-06T19:00:00+08:00  臺南市   北門區   10.0  多雲\n",
      "468  2024-01-06T19:00:00+08:00  臺南市   七股區    9.0  多雲\n",
      "\n",
      "[469 rows x 5 columns]\n"
     ]
    }
   ],
   "source": [
    "import requests\n",
    "import json\n",
    "url ='https://opendata.cwa.gov.tw/api/v1/rest/datastore/O-A0001-001?Authorization=rdec-key-123-45678-011121314&format=JSON&WeatherElement=Weather'\n",
    "\n",
    "try:\n",
    "    response = requests.get(url,verify=False)\n",
    "except:\n",
    "    print('連線失敗')\n",
    "else:\n",
    "    jsonData1 = response.json()\n",
    "    jsonRecords = jsonData1[\"records\"][\"Station\"]\n",
    "    jsonRecords\n",
    "\n",
    "    weather_list:list[dict] = []\n",
    "    for item in jsonRecords:\n",
    "        city_item:dict = {}\n",
    "        city_item['日期時間'] = item['ObsTime']['DateTime']\n",
    "        city_item['縣市'] = item['GeoInfo']['CountyName']\n",
    "        city_item['區域'] = item['GeoInfo']['TownName']\n",
    "        city_item['溫度'] = item['GeoInfo']['StationAltitude']\n",
    "        city_item['狀態'] = item['WeatherElement']['Weather']\n",
    "        weather_list.append(city_item)\n",
    "    weather_list\n",
    "\n",
    "    import pandas as pd\n",
    "    dataFrame = pd.DataFrame(weather_list)\n",
    "    print(dataFrame)"
   ]
  }
 ],
 "metadata": {
  "kernelspec": {
   "display_name": "Python 3",
   "language": "python",
   "name": "python3"
  },
  "language_info": {
   "codemirror_mode": {
    "name": "ipython",
    "version": 3
   },
   "file_extension": ".py",
   "mimetype": "text/x-python",
   "name": "python",
   "nbconvert_exporter": "python",
   "pygments_lexer": "ipython3",
   "version": "3.10.13"
  }
 },
 "nbformat": 4,
 "nbformat_minor": 2
}
